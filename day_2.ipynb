{
 "cells": [
  {
   "cell_type": "code",
   "execution_count": 1,
   "id": "47796992",
   "metadata": {},
   "outputs": [
    {
     "name": "stdout",
     "output_type": "stream",
     "text": [
      "The Zen of Python, by Tim Peters\n",
      "\n",
      "Beautiful is better than ugly.\n",
      "Explicit is better than implicit.\n",
      "Simple is better than complex.\n",
      "Complex is better than complicated.\n",
      "Flat is better than nested.\n",
      "Sparse is better than dense.\n",
      "Readability counts.\n",
      "Special cases aren't special enough to break the rules.\n",
      "Although practicality beats purity.\n",
      "Errors should never pass silently.\n",
      "Unless explicitly silenced.\n",
      "In the face of ambiguity, refuse the temptation to guess.\n",
      "There should be one-- and preferably only one --obvious way to do it.\n",
      "Although that way may not be obvious at first unless you're Dutch.\n",
      "Now is better than never.\n",
      "Although never is often better than *right* now.\n",
      "If the implementation is hard to explain, it's a bad idea.\n",
      "If the implementation is easy to explain, it may be a good idea.\n",
      "Namespaces are one honking great idea -- let's do more of those!\n"
     ]
    }
   ],
   "source": [
    "import this"
   ]
  },
  {
   "cell_type": "markdown",
   "id": "db7482a1",
   "metadata": {},
   "source": [
    "# Let's Code!!"
   ]
  },
  {
   "cell_type": "code",
   "execution_count": 6,
   "id": "d03be79a",
   "metadata": {},
   "outputs": [
    {
     "name": "stdout",
     "output_type": "stream",
     "text": [
      "ami\n"
     ]
    }
   ],
   "source": [
    "x = \"amie\"\n",
    "print(x[0:-1])\n"
   ]
  },
  {
   "cell_type": "code",
   "execution_count": 8,
   "id": "ed810a2b",
   "metadata": {},
   "outputs": [
    {
     "data": {
      "text/plain": [
       "2"
      ]
     },
     "execution_count": 8,
     "metadata": {},
     "output_type": "execute_result"
    }
   ],
   "source": [
    "x.index('i')\n"
   ]
  },
  {
   "cell_type": "code",
   "execution_count": 18,
   "id": "803f0caa",
   "metadata": {},
   "outputs": [
    {
     "name": "stdout",
     "output_type": "stream",
     "text": [
      "['bola']\n"
     ]
    }
   ],
   "source": [
    "p = [\"amie\", \"janet\", \"suan\", \"ayo\", \"bola\"]\n",
    "index_val = p.index(\"ayo\")\n",
    "y_val = p[index_val+1:]\n",
    "print(y_val)"
   ]
  },
  {
   "cell_type": "code",
   "execution_count": 13,
   "id": "e7e118db",
   "metadata": {},
   "outputs": [
    {
     "name": "stdout",
     "output_type": "stream",
     "text": [
      "['amie']\n"
     ]
    }
   ],
   "source": [
    "z_val = p[:index_val]\n",
    "print(z_val)"
   ]
  },
  {
   "cell_type": "code",
   "execution_count": 32,
   "id": "78a1679a",
   "metadata": {},
   "outputs": [
    {
     "name": "stdout",
     "output_type": "stream",
     "text": [
      "4\n",
      "3\n"
     ]
    }
   ],
   "source": [
    "d = [\"juan\", \"kate\", \"mitchel\", \"funmi\", \"angel\", \"ada\", \"lola\", \"joy\"]\n",
    "count_avg = int(len(d)/2)\n",
    "new_cont_avg = count_avg - 1\n",
    "print(count_avg)\n",
    "print(new_cont_avg)\n",
    "    \n",
    "# if len(d)%2 != 0:\n",
    "#     print(d[count_avg])\n",
    "\n",
    "# else:\n",
    "#     med_val = d[count_avg]\n",
    "#     val_med = d[new_cont_avg]\n",
    "#     print(f\"{med_val} and {val_med}\")"
   ]
  },
  {
   "cell_type": "code",
   "execution_count": 41,
   "id": "1f7495f3",
   "metadata": {},
   "outputs": [
    {
     "name": "stdout",
     "output_type": "stream",
     "text": [
      "[3, 6, 'jane', 'bella', 'tola', 'madu']\n"
     ]
    }
   ],
   "source": [
    "arr1 = [3, 6, \"jane\", \"bella\"]\n",
    "arr2 = [\"tola\", \"madu\"]\n",
    "for i in arr2:\n",
    "    arr1.append(i)\n",
    "print(arr1)\n",
    "# arr1.append(arr2)\n",
    "# print(arr1)"
   ]
  },
  {
   "cell_type": "code",
   "execution_count": 35,
   "id": "aa2318d5",
   "metadata": {},
   "outputs": [
    {
     "name": "stdout",
     "output_type": "stream",
     "text": [
      "[3, 6, 'jane', 'bella', ['tola', 'madu'], 'tola', 'madu']\n"
     ]
    }
   ],
   "source": [
    "print(arr1 + arr2)"
   ]
  },
  {
   "cell_type": "code",
   "execution_count": 38,
   "id": "94a7c8bd",
   "metadata": {},
   "outputs": [
    {
     "name": "stdout",
     "output_type": "stream",
     "text": [
      "['rihanna']\n"
     ]
    }
   ],
   "source": [
    "r_names = []\n",
    "array1 = [\"teni\", \"tiwa\", \"tems\", \"rihanna\"]\n",
    "for i in array1:\n",
    "    if i[0] == \"r\":\n",
    "        r_names.append(i)\n",
    "print(r_names)"
   ]
  },
  {
   "cell_type": "code",
   "execution_count": 43,
   "id": "a8687cc7",
   "metadata": {},
   "outputs": [
    {
     "name": "stdout",
     "output_type": "stream",
     "text": [
      "['teni', 'tiwa', 'tems', 'rihanna']\n"
     ]
    }
   ],
   "source": [
    "print(array1)\n",
    "#array_names = [\"jacob\", \"obi\", \"moses\", \"victor\"]"
   ]
  },
  {
   "cell_type": "code",
   "execution_count": 48,
   "id": "43f0a9bd",
   "metadata": {},
   "outputs": [
    {
     "name": "stdout",
     "output_type": "stream",
     "text": [
      "['Jacob', 'Obi', 'Moses', 'Victor']\n"
     ]
    }
   ],
   "source": [
    "new_surnames = []\n",
    "for i in array_names:\n",
    "    cap_names = i[0].upper() + i[1:]\n",
    "    new_surnames.append(cap_names)\n",
    "print(new_surnames)"
   ]
  },
  {
   "cell_type": "code",
   "execution_count": 52,
   "id": "569e1590",
   "metadata": {},
   "outputs": [
    {
     "name": "stdout",
     "output_type": "stream",
     "text": [
      "Jacob teni\n",
      "Obi tiwa\n",
      "Moses tems\n",
      "Victor rihanna\n"
     ]
    }
   ],
   "source": [
    "for i in range(0, len(array1)):\n",
    "    fullnames = f\"{new_surnames[i]} {array1[i]}\"\n",
    "    print(fullnames)"
   ]
  },
  {
   "cell_type": "code",
   "execution_count": 54,
   "id": "4eb20c4b",
   "metadata": {},
   "outputs": [
    {
     "name": "stdout",
     "output_type": "stream",
     "text": [
      "hannah\n",
      "shalom\n",
      "design\n"
     ]
    }
   ],
   "source": [
    "ele = [\"hannah\", \"shalom\", 10, 15, \"design\"]\n",
    "for i in ele:\n",
    "    test = isinstance(i, str)\n",
    "    if test == True:\n",
    "        print(i)"
   ]
  },
  {
   "cell_type": "code",
   "execution_count": 55,
   "id": "8f14bd64",
   "metadata": {},
   "outputs": [
    {
     "data": {
      "text/plain": [
       "str"
      ]
     },
     "execution_count": 55,
     "metadata": {},
     "output_type": "execute_result"
    }
   ],
   "source": [
    "type(\"hannah\")"
   ]
  },
  {
   "cell_type": "code",
   "execution_count": 58,
   "id": "a3ed68fa",
   "metadata": {},
   "outputs": [
    {
     "name": "stdout",
     "output_type": "stream",
     "text": [
      "10\n",
      "15\n"
     ]
    }
   ],
   "source": [
    "for i in ele:\n",
    "    p = type(i)\n",
    "    if p == int:\n",
    "        print(i)"
   ]
  },
  {
   "cell_type": "code",
   "execution_count": 60,
   "id": "8f21317e",
   "metadata": {},
   "outputs": [
    {
     "name": "stdout",
     "output_type": "stream",
     "text": [
      "No they are not all strings!\n"
     ]
    }
   ],
   "source": [
    "new_list = []\n",
    "d = [\"juan\", 10, \"mitchel\", \"funmi\", \"angel\", \"ada\", \"lola\", \"joy\"]\n",
    "for i in d:\n",
    "    k = type(i)\n",
    "    if k == str:\n",
    "        new_list.append(i)\n",
    "        \n",
    "if len(new_list)==len(d):\n",
    "    print(\"yes they are all strings!\")\n",
    "else:\n",
    "    print(\"No they are not all strings!\")"
   ]
  },
  {
   "cell_type": "code",
   "execution_count": null,
   "id": "ed382e6c",
   "metadata": {},
   "outputs": [],
   "source": []
  }
 ],
 "metadata": {
  "kernelspec": {
   "display_name": "Python 3 (ipykernel)",
   "language": "python",
   "name": "python3"
  },
  "language_info": {
   "codemirror_mode": {
    "name": "ipython",
    "version": 3
   },
   "file_extension": ".py",
   "mimetype": "text/x-python",
   "name": "python",
   "nbconvert_exporter": "python",
   "pygments_lexer": "ipython3",
   "version": "3.9.7"
  }
 },
 "nbformat": 4,
 "nbformat_minor": 5
}
